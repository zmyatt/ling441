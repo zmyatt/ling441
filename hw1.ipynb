{
 "cells": [
  {
   "cell_type": "markdown",
   "id": "46caa09c",
   "metadata": {},
   "source": [
    "Wherever `## Your answer here ##` appears, replace it with your answer.  Do not modify any other part of the notebook.\n",
    "\n",
    "The first order of business is just to get set up.  Make sure you have Python 3, NLTK, and NLTK data installed.  The following cell should run without any errors."
   ]
  },
  {
   "cell_type": "code",
   "execution_count": 4,
   "id": "cd732907",
   "metadata": {},
   "outputs": [
    {
     "name": "stdout",
     "output_type": "stream",
     "text": [
      "The history saving thread hit an unexpected error (OperationalError('unable to open database file')).History will not be written to the database.\n",
      "*** Introductory Examples for the NLTK Book ***\n",
      "Loading text1, ..., text9 and sent1, ..., sent9\n",
      "Type the name of the text or sentence to view it.\n",
      "Type: 'texts()' or 'sents()' to list the materials.\n"
     ]
    },
    {
     "ename": "LookupError",
     "evalue": "\n**********************************************************************\n  Resource \u001b[93mgutenberg\u001b[0m not found.\n  Please use the NLTK Downloader to obtain the resource:\n\n  \u001b[31m>>> import nltk\n  >>> nltk.download('gutenberg')\n  \u001b[0m\n  For more information see: https://www.nltk.org/data.html\n\n  Attempted to load \u001b[93mcorpora/gutenberg\u001b[0m\n\n  Searched in:\n    - '/Users/zoemyatt/nltk_data'\n    - '/Users/zoemyatt/opt/anaconda3/nltk_data'\n    - '/Users/zoemyatt/opt/anaconda3/share/nltk_data'\n    - '/Users/zoemyatt/opt/anaconda3/lib/nltk_data'\n    - '/usr/share/nltk_data'\n    - '/usr/local/share/nltk_data'\n    - '/usr/lib/nltk_data'\n    - '/usr/local/lib/nltk_data'\n**********************************************************************\n",
     "output_type": "error",
     "traceback": [
      "\u001b[0;31m---------------------------------------------------------------------------\u001b[0m",
      "\u001b[0;31mLookupError\u001b[0m                               Traceback (most recent call last)",
      "\u001b[0;32m~/opt/anaconda3/lib/python3.8/site-packages/nltk/corpus/util.py\u001b[0m in \u001b[0;36m__load\u001b[0;34m(self)\u001b[0m\n\u001b[1;32m     83\u001b[0m                 \u001b[0;32mtry\u001b[0m\u001b[0;34m:\u001b[0m\u001b[0;34m\u001b[0m\u001b[0;34m\u001b[0m\u001b[0m\n\u001b[0;32m---> 84\u001b[0;31m                     \u001b[0mroot\u001b[0m \u001b[0;34m=\u001b[0m \u001b[0mnltk\u001b[0m\u001b[0;34m.\u001b[0m\u001b[0mdata\u001b[0m\u001b[0;34m.\u001b[0m\u001b[0mfind\u001b[0m\u001b[0;34m(\u001b[0m\u001b[0;34mf\"{self.subdir}/{zip_name}\"\u001b[0m\u001b[0;34m)\u001b[0m\u001b[0;34m\u001b[0m\u001b[0;34m\u001b[0m\u001b[0m\n\u001b[0m\u001b[1;32m     85\u001b[0m                 \u001b[0;32mexcept\u001b[0m \u001b[0mLookupError\u001b[0m\u001b[0;34m:\u001b[0m\u001b[0;34m\u001b[0m\u001b[0;34m\u001b[0m\u001b[0m\n",
      "\u001b[0;32m~/opt/anaconda3/lib/python3.8/site-packages/nltk/data.py\u001b[0m in \u001b[0;36mfind\u001b[0;34m(resource_name, paths)\u001b[0m\n\u001b[1;32m    582\u001b[0m     \u001b[0mresource_not_found\u001b[0m \u001b[0;34m=\u001b[0m \u001b[0;34mf\"\\n{sep}\\n{msg}\\n{sep}\\n\"\u001b[0m\u001b[0;34m\u001b[0m\u001b[0;34m\u001b[0m\u001b[0m\n\u001b[0;32m--> 583\u001b[0;31m     \u001b[0;32mraise\u001b[0m \u001b[0mLookupError\u001b[0m\u001b[0;34m(\u001b[0m\u001b[0mresource_not_found\u001b[0m\u001b[0;34m)\u001b[0m\u001b[0;34m\u001b[0m\u001b[0;34m\u001b[0m\u001b[0m\n\u001b[0m\u001b[1;32m    584\u001b[0m \u001b[0;34m\u001b[0m\u001b[0m\n",
      "\u001b[0;31mLookupError\u001b[0m: \n**********************************************************************\n  Resource \u001b[93mgutenberg\u001b[0m not found.\n  Please use the NLTK Downloader to obtain the resource:\n\n  \u001b[31m>>> import nltk\n  >>> nltk.download('gutenberg')\n  \u001b[0m\n  For more information see: https://www.nltk.org/data.html\n\n  Attempted to load \u001b[93mcorpora/gutenberg.zip/gutenberg/\u001b[0m\n\n  Searched in:\n    - '/Users/zoemyatt/nltk_data'\n    - '/Users/zoemyatt/opt/anaconda3/nltk_data'\n    - '/Users/zoemyatt/opt/anaconda3/share/nltk_data'\n    - '/Users/zoemyatt/opt/anaconda3/lib/nltk_data'\n    - '/usr/share/nltk_data'\n    - '/usr/local/share/nltk_data'\n    - '/usr/lib/nltk_data'\n    - '/usr/local/lib/nltk_data'\n**********************************************************************\n",
      "\nDuring handling of the above exception, another exception occurred:\n",
      "\u001b[0;31mLookupError\u001b[0m                               Traceback (most recent call last)",
      "\u001b[0;32m/var/folders/86/xg9n82z50cq5xgkjg9p8xc540000gn/T/ipykernel_6943/4005604585.py\u001b[0m in \u001b[0;36m<module>\u001b[0;34m\u001b[0m\n\u001b[1;32m      1\u001b[0m \u001b[0;32mimport\u001b[0m \u001b[0mnltk\u001b[0m\u001b[0;34m\u001b[0m\u001b[0;34m\u001b[0m\u001b[0m\n\u001b[0;32m----> 2\u001b[0;31m \u001b[0;32mfrom\u001b[0m \u001b[0mnltk\u001b[0m\u001b[0;34m.\u001b[0m\u001b[0mbook\u001b[0m \u001b[0;32mimport\u001b[0m \u001b[0;34m*\u001b[0m\u001b[0;34m\u001b[0m\u001b[0;34m\u001b[0m\u001b[0m\n\u001b[0m",
      "\u001b[0;32m~/opt/anaconda3/lib/python3.8/site-packages/nltk/book.py\u001b[0m in \u001b[0;36m<module>\u001b[0;34m\u001b[0m\n\u001b[1;32m     25\u001b[0m \u001b[0mprint\u001b[0m\u001b[0;34m(\u001b[0m\u001b[0;34m\"Type: 'texts()' or 'sents()' to list the materials.\"\u001b[0m\u001b[0;34m)\u001b[0m\u001b[0;34m\u001b[0m\u001b[0;34m\u001b[0m\u001b[0m\n\u001b[1;32m     26\u001b[0m \u001b[0;34m\u001b[0m\u001b[0m\n\u001b[0;32m---> 27\u001b[0;31m \u001b[0mtext1\u001b[0m \u001b[0;34m=\u001b[0m \u001b[0mText\u001b[0m\u001b[0;34m(\u001b[0m\u001b[0mgutenberg\u001b[0m\u001b[0;34m.\u001b[0m\u001b[0mwords\u001b[0m\u001b[0;34m(\u001b[0m\u001b[0;34m\"melville-moby_dick.txt\"\u001b[0m\u001b[0;34m)\u001b[0m\u001b[0;34m)\u001b[0m\u001b[0;34m\u001b[0m\u001b[0;34m\u001b[0m\u001b[0m\n\u001b[0m\u001b[1;32m     28\u001b[0m \u001b[0mprint\u001b[0m\u001b[0;34m(\u001b[0m\u001b[0;34m\"text1:\"\u001b[0m\u001b[0;34m,\u001b[0m \u001b[0mtext1\u001b[0m\u001b[0;34m.\u001b[0m\u001b[0mname\u001b[0m\u001b[0;34m)\u001b[0m\u001b[0;34m\u001b[0m\u001b[0;34m\u001b[0m\u001b[0m\n\u001b[1;32m     29\u001b[0m \u001b[0;34m\u001b[0m\u001b[0m\n",
      "\u001b[0;32m~/opt/anaconda3/lib/python3.8/site-packages/nltk/corpus/util.py\u001b[0m in \u001b[0;36m__getattr__\u001b[0;34m(self, attr)\u001b[0m\n\u001b[1;32m    119\u001b[0m             \u001b[0;32mraise\u001b[0m \u001b[0mAttributeError\u001b[0m\u001b[0;34m(\u001b[0m\u001b[0;34m\"LazyCorpusLoader object has no attribute '__bases__'\"\u001b[0m\u001b[0;34m)\u001b[0m\u001b[0;34m\u001b[0m\u001b[0;34m\u001b[0m\u001b[0m\n\u001b[1;32m    120\u001b[0m \u001b[0;34m\u001b[0m\u001b[0m\n\u001b[0;32m--> 121\u001b[0;31m         \u001b[0mself\u001b[0m\u001b[0;34m.\u001b[0m\u001b[0m__load\u001b[0m\u001b[0;34m(\u001b[0m\u001b[0;34m)\u001b[0m\u001b[0;34m\u001b[0m\u001b[0;34m\u001b[0m\u001b[0m\n\u001b[0m\u001b[1;32m    122\u001b[0m         \u001b[0;31m# This looks circular, but its not, since __load() changes our\u001b[0m\u001b[0;34m\u001b[0m\u001b[0;34m\u001b[0m\u001b[0;34m\u001b[0m\u001b[0m\n\u001b[1;32m    123\u001b[0m         \u001b[0;31m# __class__ to something new:\u001b[0m\u001b[0;34m\u001b[0m\u001b[0;34m\u001b[0m\u001b[0;34m\u001b[0m\u001b[0m\n",
      "\u001b[0;32m~/opt/anaconda3/lib/python3.8/site-packages/nltk/corpus/util.py\u001b[0m in \u001b[0;36m__load\u001b[0;34m(self)\u001b[0m\n\u001b[1;32m     84\u001b[0m                     \u001b[0mroot\u001b[0m \u001b[0;34m=\u001b[0m \u001b[0mnltk\u001b[0m\u001b[0;34m.\u001b[0m\u001b[0mdata\u001b[0m\u001b[0;34m.\u001b[0m\u001b[0mfind\u001b[0m\u001b[0;34m(\u001b[0m\u001b[0;34mf\"{self.subdir}/{zip_name}\"\u001b[0m\u001b[0;34m)\u001b[0m\u001b[0;34m\u001b[0m\u001b[0;34m\u001b[0m\u001b[0m\n\u001b[1;32m     85\u001b[0m                 \u001b[0;32mexcept\u001b[0m \u001b[0mLookupError\u001b[0m\u001b[0;34m:\u001b[0m\u001b[0;34m\u001b[0m\u001b[0;34m\u001b[0m\u001b[0m\n\u001b[0;32m---> 86\u001b[0;31m                     \u001b[0;32mraise\u001b[0m \u001b[0me\u001b[0m\u001b[0;34m\u001b[0m\u001b[0;34m\u001b[0m\u001b[0m\n\u001b[0m\u001b[1;32m     87\u001b[0m \u001b[0;34m\u001b[0m\u001b[0m\n\u001b[1;32m     88\u001b[0m         \u001b[0;31m# Load the corpus.\u001b[0m\u001b[0;34m\u001b[0m\u001b[0;34m\u001b[0m\u001b[0;34m\u001b[0m\u001b[0m\n",
      "\u001b[0;32m~/opt/anaconda3/lib/python3.8/site-packages/nltk/corpus/util.py\u001b[0m in \u001b[0;36m__load\u001b[0;34m(self)\u001b[0m\n\u001b[1;32m     79\u001b[0m         \u001b[0;32melse\u001b[0m\u001b[0;34m:\u001b[0m\u001b[0;34m\u001b[0m\u001b[0;34m\u001b[0m\u001b[0m\n\u001b[1;32m     80\u001b[0m             \u001b[0;32mtry\u001b[0m\u001b[0;34m:\u001b[0m\u001b[0;34m\u001b[0m\u001b[0;34m\u001b[0m\u001b[0m\n\u001b[0;32m---> 81\u001b[0;31m                 \u001b[0mroot\u001b[0m \u001b[0;34m=\u001b[0m \u001b[0mnltk\u001b[0m\u001b[0;34m.\u001b[0m\u001b[0mdata\u001b[0m\u001b[0;34m.\u001b[0m\u001b[0mfind\u001b[0m\u001b[0;34m(\u001b[0m\u001b[0;34mf\"{self.subdir}/{self.__name}\"\u001b[0m\u001b[0;34m)\u001b[0m\u001b[0;34m\u001b[0m\u001b[0;34m\u001b[0m\u001b[0m\n\u001b[0m\u001b[1;32m     82\u001b[0m             \u001b[0;32mexcept\u001b[0m \u001b[0mLookupError\u001b[0m \u001b[0;32mas\u001b[0m \u001b[0me\u001b[0m\u001b[0;34m:\u001b[0m\u001b[0;34m\u001b[0m\u001b[0;34m\u001b[0m\u001b[0m\n\u001b[1;32m     83\u001b[0m                 \u001b[0;32mtry\u001b[0m\u001b[0;34m:\u001b[0m\u001b[0;34m\u001b[0m\u001b[0;34m\u001b[0m\u001b[0m\n",
      "\u001b[0;32m~/opt/anaconda3/lib/python3.8/site-packages/nltk/data.py\u001b[0m in \u001b[0;36mfind\u001b[0;34m(resource_name, paths)\u001b[0m\n\u001b[1;32m    581\u001b[0m     \u001b[0msep\u001b[0m \u001b[0;34m=\u001b[0m \u001b[0;34m\"*\"\u001b[0m \u001b[0;34m*\u001b[0m \u001b[0;36m70\u001b[0m\u001b[0;34m\u001b[0m\u001b[0;34m\u001b[0m\u001b[0m\n\u001b[1;32m    582\u001b[0m     \u001b[0mresource_not_found\u001b[0m \u001b[0;34m=\u001b[0m \u001b[0;34mf\"\\n{sep}\\n{msg}\\n{sep}\\n\"\u001b[0m\u001b[0;34m\u001b[0m\u001b[0;34m\u001b[0m\u001b[0m\n\u001b[0;32m--> 583\u001b[0;31m     \u001b[0;32mraise\u001b[0m \u001b[0mLookupError\u001b[0m\u001b[0;34m(\u001b[0m\u001b[0mresource_not_found\u001b[0m\u001b[0;34m)\u001b[0m\u001b[0;34m\u001b[0m\u001b[0;34m\u001b[0m\u001b[0m\n\u001b[0m\u001b[1;32m    584\u001b[0m \u001b[0;34m\u001b[0m\u001b[0m\n\u001b[1;32m    585\u001b[0m \u001b[0;34m\u001b[0m\u001b[0m\n",
      "\u001b[0;31mLookupError\u001b[0m: \n**********************************************************************\n  Resource \u001b[93mgutenberg\u001b[0m not found.\n  Please use the NLTK Downloader to obtain the resource:\n\n  \u001b[31m>>> import nltk\n  >>> nltk.download('gutenberg')\n  \u001b[0m\n  For more information see: https://www.nltk.org/data.html\n\n  Attempted to load \u001b[93mcorpora/gutenberg\u001b[0m\n\n  Searched in:\n    - '/Users/zoemyatt/nltk_data'\n    - '/Users/zoemyatt/opt/anaconda3/nltk_data'\n    - '/Users/zoemyatt/opt/anaconda3/share/nltk_data'\n    - '/Users/zoemyatt/opt/anaconda3/lib/nltk_data'\n    - '/usr/share/nltk_data'\n    - '/usr/local/share/nltk_data'\n    - '/usr/lib/nltk_data'\n    - '/usr/local/lib/nltk_data'\n**********************************************************************\n"
     ]
    }
   ],
   "source": [
    "import nltk\n",
    "from nltk.book import *"
   ]
  },
  {
   "cell_type": "markdown",
   "id": "01c73c13",
   "metadata": {},
   "source": [
    "# 1\n",
    "If you are given a word $w$, how do you show a concordance of $w$ in *Sense and Sensibility*?"
   ]
  },
  {
   "cell_type": "code",
   "execution_count": 5,
   "id": "03310ad2",
   "metadata": {},
   "outputs": [],
   "source": [
    "def q1 (w):\n",
    "    text2.concordance(w)\n",
    "    return None"
   ]
  },
  {
   "cell_type": "markdown",
   "id": "545a82ed",
   "metadata": {},
   "source": [
    "For example, the following should display the concordance for 'sensibility':"
   ]
  },
  {
   "cell_type": "code",
   "execution_count": 6,
   "id": "9f1e4ce0",
   "metadata": {},
   "outputs": [
    {
     "ename": "NameError",
     "evalue": "name 'text2' is not defined",
     "output_type": "error",
     "traceback": [
      "\u001b[0;31m---------------------------------------------------------------------------\u001b[0m",
      "\u001b[0;31mNameError\u001b[0m                                 Traceback (most recent call last)",
      "\u001b[0;32m/var/folders/86/xg9n82z50cq5xgkjg9p8xc540000gn/T/ipykernel_6943/215896741.py\u001b[0m in \u001b[0;36m<module>\u001b[0;34m\u001b[0m\n\u001b[0;32m----> 1\u001b[0;31m \u001b[0mq1\u001b[0m\u001b[0;34m(\u001b[0m\u001b[0;34m'sensibility'\u001b[0m\u001b[0;34m)\u001b[0m\u001b[0;34m\u001b[0m\u001b[0;34m\u001b[0m\u001b[0m\n\u001b[0m",
      "\u001b[0;32m/var/folders/86/xg9n82z50cq5xgkjg9p8xc540000gn/T/ipykernel_6943/215797222.py\u001b[0m in \u001b[0;36mq1\u001b[0;34m(w)\u001b[0m\n\u001b[1;32m      1\u001b[0m \u001b[0;32mdef\u001b[0m \u001b[0mq1\u001b[0m \u001b[0;34m(\u001b[0m\u001b[0mw\u001b[0m\u001b[0;34m)\u001b[0m\u001b[0;34m:\u001b[0m\u001b[0;34m\u001b[0m\u001b[0;34m\u001b[0m\u001b[0m\n\u001b[0;32m----> 2\u001b[0;31m     \u001b[0mtext2\u001b[0m\u001b[0;34m.\u001b[0m\u001b[0mconcordance\u001b[0m\u001b[0;34m(\u001b[0m\u001b[0mw\u001b[0m\u001b[0;34m)\u001b[0m\u001b[0;34m\u001b[0m\u001b[0;34m\u001b[0m\u001b[0m\n\u001b[0m\u001b[1;32m      3\u001b[0m     \u001b[0;32mreturn\u001b[0m \u001b[0;32mNone\u001b[0m\u001b[0;34m\u001b[0m\u001b[0;34m\u001b[0m\u001b[0m\n",
      "\u001b[0;31mNameError\u001b[0m: name 'text2' is not defined"
     ]
    }
   ],
   "source": [
    "q1('sensibility')"
   ]
  },
  {
   "cell_type": "markdown",
   "id": "c7e61d28",
   "metadata": {},
   "source": [
    "# 2\n",
    "Word frequencies tend to be rather small numbers.  One way of measuring small frequencies is *parts per million*.  Get the proportion (that is, the count divided by the total number of words) and multiply by a million.  For a given word $w$, what is the parts per million of that word in *Moby Dick*?"
   ]
  },
  {
   "cell_type": "code",
   "execution_count": 7,
   "id": "00fc7324",
   "metadata": {},
   "outputs": [],
   "source": [
    "def q2 (w):\n",
    "    return 1000000 * text1.count(w) / len(text1)"
   ]
  },
  {
   "cell_type": "markdown",
   "id": "735e0969",
   "metadata": {},
   "source": [
    "For example, what is the parts per million of 'fluke' in *Moby Dick*?  (The result should be more than 10 but less than 100.)"
   ]
  },
  {
   "cell_type": "code",
   "execution_count": 8,
   "id": "7f62c65a",
   "metadata": {},
   "outputs": [
    {
     "ename": "NameError",
     "evalue": "name 'text1' is not defined",
     "output_type": "error",
     "traceback": [
      "\u001b[0;31m---------------------------------------------------------------------------\u001b[0m",
      "\u001b[0;31mNameError\u001b[0m                                 Traceback (most recent call last)",
      "\u001b[0;32m/var/folders/86/xg9n82z50cq5xgkjg9p8xc540000gn/T/ipykernel_6943/2607474779.py\u001b[0m in \u001b[0;36m<module>\u001b[0;34m\u001b[0m\n\u001b[0;32m----> 1\u001b[0;31m \u001b[0mq2\u001b[0m\u001b[0;34m(\u001b[0m\u001b[0;34m'fluke'\u001b[0m\u001b[0;34m)\u001b[0m\u001b[0;34m\u001b[0m\u001b[0;34m\u001b[0m\u001b[0m\n\u001b[0m",
      "\u001b[0;32m/var/folders/86/xg9n82z50cq5xgkjg9p8xc540000gn/T/ipykernel_6943/3691668519.py\u001b[0m in \u001b[0;36mq2\u001b[0;34m(w)\u001b[0m\n\u001b[1;32m      1\u001b[0m \u001b[0;32mdef\u001b[0m \u001b[0mq2\u001b[0m \u001b[0;34m(\u001b[0m\u001b[0mw\u001b[0m\u001b[0;34m)\u001b[0m\u001b[0;34m:\u001b[0m\u001b[0;34m\u001b[0m\u001b[0;34m\u001b[0m\u001b[0m\n\u001b[0;32m----> 2\u001b[0;31m     \u001b[0;32mreturn\u001b[0m \u001b[0;36m1000000\u001b[0m \u001b[0;34m*\u001b[0m \u001b[0mtext1\u001b[0m\u001b[0;34m.\u001b[0m\u001b[0mcount\u001b[0m\u001b[0;34m(\u001b[0m\u001b[0mw\u001b[0m\u001b[0;34m)\u001b[0m \u001b[0;34m/\u001b[0m \u001b[0mlen\u001b[0m\u001b[0;34m(\u001b[0m\u001b[0mtext1\u001b[0m\u001b[0;34m)\u001b[0m\u001b[0;34m\u001b[0m\u001b[0;34m\u001b[0m\u001b[0m\n\u001b[0m",
      "\u001b[0;31mNameError\u001b[0m: name 'text1' is not defined"
     ]
    }
   ],
   "source": [
    "q2('fluke')"
   ]
  },
  {
   "cell_type": "markdown",
   "id": "7d342df3",
   "metadata": {},
   "source": [
    "# 3\n",
    "Write a function called `ppm` that takes a word and a text and returns the parts per million of the word in the text."
   ]
  },
  {
   "cell_type": "code",
   "execution_count": 9,
   "id": "cd9e8991",
   "metadata": {},
   "outputs": [],
   "source": [
    "def ppm (w, t):\n",
    "    return 1000000 * t.count(w) / len(t)"
   ]
  },
  {
   "cell_type": "markdown",
   "id": "c985ff4b",
   "metadata": {},
   "source": [
    "This should give the same result as the example at the end of question 2."
   ]
  },
  {
   "cell_type": "code",
   "execution_count": 10,
   "id": "1652c083",
   "metadata": {},
   "outputs": [
    {
     "ename": "NameError",
     "evalue": "name 'text1' is not defined",
     "output_type": "error",
     "traceback": [
      "\u001b[0;31m---------------------------------------------------------------------------\u001b[0m",
      "\u001b[0;31mNameError\u001b[0m                                 Traceback (most recent call last)",
      "\u001b[0;32m/var/folders/86/xg9n82z50cq5xgkjg9p8xc540000gn/T/ipykernel_6943/1725378784.py\u001b[0m in \u001b[0;36m<module>\u001b[0;34m\u001b[0m\n\u001b[0;32m----> 1\u001b[0;31m \u001b[0mppm\u001b[0m\u001b[0;34m(\u001b[0m\u001b[0;34m'fluke'\u001b[0m\u001b[0;34m,\u001b[0m \u001b[0mtext1\u001b[0m\u001b[0;34m)\u001b[0m\u001b[0;34m\u001b[0m\u001b[0;34m\u001b[0m\u001b[0m\n\u001b[0m",
      "\u001b[0;31mNameError\u001b[0m: name 'text1' is not defined"
     ]
    }
   ],
   "source": [
    "ppm('fluke', text1)"
   ]
  },
  {
   "cell_type": "markdown",
   "id": "fa20fe27",
   "metadata": {},
   "source": [
    "# 4\n",
    "How do you count the number of tokens in a given text?"
   ]
  },
  {
   "cell_type": "code",
   "execution_count": 11,
   "id": "7fef7cf8",
   "metadata": {},
   "outputs": [],
   "source": [
    "def ntokens (text):\n",
    "    return set(text)"
   ]
  },
  {
   "cell_type": "markdown",
   "id": "adcb1e57",
   "metadata": {},
   "source": [
    "The number of tokens in *Genesis*."
   ]
  },
  {
   "cell_type": "code",
   "execution_count": 12,
   "id": "e613afa4",
   "metadata": {},
   "outputs": [
    {
     "ename": "NameError",
     "evalue": "name 'text3' is not defined",
     "output_type": "error",
     "traceback": [
      "\u001b[0;31m---------------------------------------------------------------------------\u001b[0m",
      "\u001b[0;31mNameError\u001b[0m                                 Traceback (most recent call last)",
      "\u001b[0;32m/var/folders/86/xg9n82z50cq5xgkjg9p8xc540000gn/T/ipykernel_6943/3324597231.py\u001b[0m in \u001b[0;36m<module>\u001b[0;34m\u001b[0m\n\u001b[0;32m----> 1\u001b[0;31m \u001b[0mntokens\u001b[0m\u001b[0;34m(\u001b[0m\u001b[0mtext3\u001b[0m\u001b[0;34m)\u001b[0m\u001b[0;34m\u001b[0m\u001b[0;34m\u001b[0m\u001b[0m\n\u001b[0m",
      "\u001b[0;31mNameError\u001b[0m: name 'text3' is not defined"
     ]
    }
   ],
   "source": [
    "ntokens(text3)"
   ]
  },
  {
   "cell_type": "markdown",
   "id": "155e55c2",
   "metadata": {},
   "source": [
    "# 5\n",
    "How do you count the number of types in a given text?"
   ]
  },
  {
   "cell_type": "code",
   "execution_count": 13,
   "id": "bfad6341",
   "metadata": {},
   "outputs": [],
   "source": [
    "def ntypes (text):\n",
    "    return len(set(text))"
   ]
  },
  {
   "cell_type": "markdown",
   "id": "3d585bce",
   "metadata": {},
   "source": [
    "The number of types in *Genesis*."
   ]
  },
  {
   "cell_type": "code",
   "execution_count": 14,
   "id": "1c6bcfaa",
   "metadata": {},
   "outputs": [
    {
     "ename": "NameError",
     "evalue": "name 'text3' is not defined",
     "output_type": "error",
     "traceback": [
      "\u001b[0;31m---------------------------------------------------------------------------\u001b[0m",
      "\u001b[0;31mNameError\u001b[0m                                 Traceback (most recent call last)",
      "\u001b[0;32m/var/folders/86/xg9n82z50cq5xgkjg9p8xc540000gn/T/ipykernel_6943/3764764981.py\u001b[0m in \u001b[0;36m<module>\u001b[0;34m\u001b[0m\n\u001b[0;32m----> 1\u001b[0;31m \u001b[0mntypes\u001b[0m\u001b[0;34m(\u001b[0m\u001b[0mtext3\u001b[0m\u001b[0;34m)\u001b[0m\u001b[0;34m\u001b[0m\u001b[0;34m\u001b[0m\u001b[0m\n\u001b[0m",
      "\u001b[0;31mNameError\u001b[0m: name 'text3' is not defined"
     ]
    }
   ],
   "source": [
    "ntypes(text3)"
   ]
  },
  {
   "cell_type": "markdown",
   "id": "177a7fe5",
   "metadata": {},
   "source": [
    "# 6\n",
    "Given a word $w$ and two texts $t_1$ and $t_2$, how many times *more frequently* does $w$ occur in $t_1$ than in $t_2$?  For example, if $w$ occurs 20 times in $t_1$ and 10 times in $t_2$, the result is 2 (twice as often).  If $w$ actually occurs more often in $t_2$, the result will be a fraction less than 1.\n",
    "\n",
    "(You can assume that $w$ occurs at least once in each text.)"
   ]
  },
  {
   "cell_type": "code",
   "execution_count": 15,
   "id": "d9b07e2b",
   "metadata": {},
   "outputs": [],
   "source": [
    "def q6 (w, t1, t2):\n",
    "    return (t1.count(w) / len(t1)) / (t2.count(w) / len(t2))"
   ]
  },
  {
   "cell_type": "markdown",
   "id": "56cd8c79",
   "metadata": {},
   "source": [
    "As one would expect, the word 'Noah' occurs rather more often in *Genesis* than in *Moby Dick*."
   ]
  },
  {
   "cell_type": "code",
   "execution_count": 16,
   "id": "4392f747",
   "metadata": {},
   "outputs": [
    {
     "ename": "NameError",
     "evalue": "name 'text3' is not defined",
     "output_type": "error",
     "traceback": [
      "\u001b[0;31m---------------------------------------------------------------------------\u001b[0m",
      "\u001b[0;31mNameError\u001b[0m                                 Traceback (most recent call last)",
      "\u001b[0;32m/var/folders/86/xg9n82z50cq5xgkjg9p8xc540000gn/T/ipykernel_6943/2178574662.py\u001b[0m in \u001b[0;36m<module>\u001b[0;34m\u001b[0m\n\u001b[0;32m----> 1\u001b[0;31m \u001b[0mq6\u001b[0m\u001b[0;34m(\u001b[0m\u001b[0;34m'Noah'\u001b[0m\u001b[0;34m,\u001b[0m \u001b[0mtext3\u001b[0m\u001b[0;34m,\u001b[0m \u001b[0mtext1\u001b[0m\u001b[0;34m)\u001b[0m\u001b[0;34m\u001b[0m\u001b[0;34m\u001b[0m\u001b[0m\n\u001b[0m",
      "\u001b[0;31mNameError\u001b[0m: name 'text3' is not defined"
     ]
    }
   ],
   "source": [
    "q6('Noah', text3, text1)"
   ]
  },
  {
   "cell_type": "markdown",
   "id": "562f58d6",
   "metadata": {},
   "source": [
    "The following might be a little surprising: the word 'heavens' is **not** more common in *Genesis* than in *Moby Dick*."
   ]
  },
  {
   "cell_type": "code",
   "execution_count": 17,
   "id": "8cc4c3b4",
   "metadata": {},
   "outputs": [
    {
     "ename": "NameError",
     "evalue": "name 'text3' is not defined",
     "output_type": "error",
     "traceback": [
      "\u001b[0;31m---------------------------------------------------------------------------\u001b[0m",
      "\u001b[0;31mNameError\u001b[0m                                 Traceback (most recent call last)",
      "\u001b[0;32m/var/folders/86/xg9n82z50cq5xgkjg9p8xc540000gn/T/ipykernel_6943/1967568911.py\u001b[0m in \u001b[0;36m<module>\u001b[0;34m\u001b[0m\n\u001b[0;32m----> 1\u001b[0;31m \u001b[0mq6\u001b[0m\u001b[0;34m(\u001b[0m\u001b[0;34m'heavens'\u001b[0m\u001b[0;34m,\u001b[0m \u001b[0mtext3\u001b[0m\u001b[0;34m,\u001b[0m \u001b[0mtext1\u001b[0m\u001b[0;34m)\u001b[0m\u001b[0;34m\u001b[0m\u001b[0;34m\u001b[0m\u001b[0m\n\u001b[0m",
      "\u001b[0;31mNameError\u001b[0m: name 'text3' is not defined"
     ]
    }
   ],
   "source": [
    "q6('heavens', text3, text1)"
   ]
  },
  {
   "cell_type": "markdown",
   "id": "ee885ae7",
   "metadata": {},
   "source": [
    "# 7\n",
    "To understand the previous result, here's a big hint: which text is longer?  The longer a text is, the more chances a word has to appear.  Write a function called `relative_length` that takes two texts and returns the ratio of the length of the first text to the length of the second text."
   ]
  },
  {
   "cell_type": "code",
   "execution_count": 18,
   "id": "22705dc8",
   "metadata": {},
   "outputs": [],
   "source": [
    "def relative_length (t1, t2):\n",
    "    return len(t1)/len(t2)"
   ]
  },
  {
   "cell_type": "markdown",
   "id": "d61092db",
   "metadata": {},
   "source": [
    "Let us look at the relative lengths of *Genesis* and *Moby Dick*.  This should look a lot like the ratio of how often 'heavens' occurs in them."
   ]
  },
  {
   "cell_type": "code",
   "execution_count": 19,
   "id": "43d8037f",
   "metadata": {},
   "outputs": [
    {
     "ename": "NameError",
     "evalue": "name 'text3' is not defined",
     "output_type": "error",
     "traceback": [
      "\u001b[0;31m---------------------------------------------------------------------------\u001b[0m",
      "\u001b[0;31mNameError\u001b[0m                                 Traceback (most recent call last)",
      "\u001b[0;32m/var/folders/86/xg9n82z50cq5xgkjg9p8xc540000gn/T/ipykernel_6943/3432585991.py\u001b[0m in \u001b[0;36m<module>\u001b[0;34m\u001b[0m\n\u001b[0;32m----> 1\u001b[0;31m \u001b[0mrelative_length\u001b[0m\u001b[0;34m(\u001b[0m\u001b[0mtext3\u001b[0m\u001b[0;34m,\u001b[0m \u001b[0mtext1\u001b[0m\u001b[0;34m)\u001b[0m\u001b[0;34m\u001b[0m\u001b[0;34m\u001b[0m\u001b[0m\n\u001b[0m",
      "\u001b[0;31mNameError\u001b[0m: name 'text3' is not defined"
     ]
    }
   ],
   "source": [
    "relative_length(text3, text1)"
   ]
  },
  {
   "cell_type": "markdown",
   "id": "789f938e",
   "metadata": {},
   "source": [
    "# 8\n",
    "So instead of comparing the counts, let us compare the rates of occurrence - that is, the parts per million.  Write a function called `relative_rate` that takes a word $w$ and two texts $t_1$ and $t_2$.  It should return the ratio of the parts per million of $w$ in $t_1$ versus $t_2$.  In your definition, you **should** use the function `ppm`, which you have already defined."
   ]
  },
  {
   "cell_type": "code",
   "execution_count": 20,
   "id": "f29025b3",
   "metadata": {},
   "outputs": [],
   "source": [
    "def relative_rate (w, t1, t2):\n",
    "    return ppm(w, t1) / ppm(w, t2)"
   ]
  },
  {
   "cell_type": "markdown",
   "id": "685e8bd4",
   "metadata": {},
   "source": [
    "Measured this way, 'heavens' occurs slightly more frequently in *Genesis* than in *Moby Dick*."
   ]
  },
  {
   "cell_type": "code",
   "execution_count": 21,
   "id": "cc0fcf78",
   "metadata": {},
   "outputs": [
    {
     "ename": "NameError",
     "evalue": "name 'text3' is not defined",
     "output_type": "error",
     "traceback": [
      "\u001b[0;31m---------------------------------------------------------------------------\u001b[0m",
      "\u001b[0;31mNameError\u001b[0m                                 Traceback (most recent call last)",
      "\u001b[0;32m/var/folders/86/xg9n82z50cq5xgkjg9p8xc540000gn/T/ipykernel_6943/4173946195.py\u001b[0m in \u001b[0;36m<module>\u001b[0;34m\u001b[0m\n\u001b[0;32m----> 1\u001b[0;31m \u001b[0mrelative_rate\u001b[0m\u001b[0;34m(\u001b[0m\u001b[0;34m'heavens'\u001b[0m\u001b[0;34m,\u001b[0m \u001b[0mtext3\u001b[0m\u001b[0;34m,\u001b[0m \u001b[0mtext1\u001b[0m\u001b[0;34m)\u001b[0m\u001b[0;34m\u001b[0m\u001b[0;34m\u001b[0m\u001b[0m\n\u001b[0m",
      "\u001b[0;31mNameError\u001b[0m: name 'text3' is not defined"
     ]
    }
   ],
   "source": [
    "relative_rate('heavens', text3, text1)"
   ]
  },
  {
   "cell_type": "code",
   "execution_count": null,
   "id": "fef38b74",
   "metadata": {},
   "outputs": [],
   "source": []
  }
 ],
 "metadata": {
  "kernelspec": {
   "display_name": "Python 3 (ipykernel)",
   "language": "python",
   "name": "python3"
  },
  "language_info": {
   "codemirror_mode": {
    "name": "ipython",
    "version": 3
   },
   "file_extension": ".py",
   "mimetype": "text/x-python",
   "name": "python",
   "nbconvert_exporter": "python",
   "pygments_lexer": "ipython3",
   "version": "3.8.3"
  }
 },
 "nbformat": 4,
 "nbformat_minor": 5
}
